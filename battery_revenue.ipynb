{
 "cells": [
  {
   "cell_type": "code",
   "execution_count": 1,
   "metadata": {
    "collapsed": false,
    "jupyter": {
     "outputs_hidden": false
    },
    "pycharm": {
     "is_executing": true,
     "name": "#%%\n"
    }
   },
   "outputs": [],
   "source": [
    "import pandas as pd\n",
    "import config\n"
   ]
  },
  {
   "cell_type": "markdown",
   "metadata": {},
   "source": [
    "## Exploring CSV"
   ]
  },
  {
   "cell_type": "code",
   "execution_count": 2,
   "metadata": {},
   "outputs": [
    {
     "data": {
      "text/html": [
       "<div>\n",
       "<style scoped>\n",
       "    .dataframe tbody tr th:only-of-type {\n",
       "        vertical-align: middle;\n",
       "    }\n",
       "\n",
       "    .dataframe tbody tr th {\n",
       "        vertical-align: top;\n",
       "    }\n",
       "\n",
       "    .dataframe thead th {\n",
       "        text-align: right;\n",
       "    }\n",
       "</style>\n",
       "<table border=\"1\" class=\"dataframe\">\n",
       "  <thead>\n",
       "    <tr style=\"text-align: right;\">\n",
       "      <th></th>\n",
       "      <th>Timestamp</th>\n",
       "      <th>INITIALMW</th>\n",
       "      <th>TARGETMW</th>\n",
       "      <th>RRP</th>\n",
       "    </tr>\n",
       "  </thead>\n",
       "  <tbody>\n",
       "    <tr>\n",
       "      <th>0</th>\n",
       "      <td>1/04/2024 0:05</td>\n",
       "      <td>0.0</td>\n",
       "      <td>0.0</td>\n",
       "      <td>59.66236</td>\n",
       "    </tr>\n",
       "    <tr>\n",
       "      <th>1</th>\n",
       "      <td>1/04/2024 0:10</td>\n",
       "      <td>0.0</td>\n",
       "      <td>0.0</td>\n",
       "      <td>59.75000</td>\n",
       "    </tr>\n",
       "    <tr>\n",
       "      <th>2</th>\n",
       "      <td>1/04/2024 0:15</td>\n",
       "      <td>0.0</td>\n",
       "      <td>0.0</td>\n",
       "      <td>59.20843</td>\n",
       "    </tr>\n",
       "    <tr>\n",
       "      <th>3</th>\n",
       "      <td>1/04/2024 0:20</td>\n",
       "      <td>0.0</td>\n",
       "      <td>0.0</td>\n",
       "      <td>59.59650</td>\n",
       "    </tr>\n",
       "    <tr>\n",
       "      <th>4</th>\n",
       "      <td>1/04/2024 0:25</td>\n",
       "      <td>0.0</td>\n",
       "      <td>0.0</td>\n",
       "      <td>58.49123</td>\n",
       "    </tr>\n",
       "  </tbody>\n",
       "</table>\n",
       "</div>"
      ],
      "text/plain": [
       "        Timestamp  INITIALMW  TARGETMW       RRP\n",
       "0  1/04/2024 0:05        0.0       0.0  59.66236\n",
       "1  1/04/2024 0:10        0.0       0.0  59.75000\n",
       "2  1/04/2024 0:15        0.0       0.0  59.20843\n",
       "3  1/04/2024 0:20        0.0       0.0  59.59650\n",
       "4  1/04/2024 0:25        0.0       0.0  58.49123"
      ]
     },
     "execution_count": 2,
     "metadata": {},
     "output_type": "execute_result"
    }
   ],
   "source": [
    "csv_path='/Users/taoluo/Workspace/lorne/agltest/coding_practice_python_battery_dispatch_dataset.csv'\n",
    "\n",
    "# read header from 1st line\n",
    "df = pd.read_csv(config.CSV_PATH, header=0)\n",
    "\n",
    "df.head()"
   ]
  },
  {
   "cell_type": "markdown",
   "metadata": {},
   "source": [
    "## Function to calculate interval revenue\n",
    "\n",
    "### Asumption:\n",
    "- As mentioned, INITIALMW and TARGETMW in each interval are linear ramping \n",
    "- intervals are fixed at 5 mins, so it hard coded below\n",
    "- Discharging(positive MW) bring revenue, charging(negative MW) have no revenue but also no cost, this follows solar panel's battery"
   ]
  },
  {
   "cell_type": "code",
   "execution_count": 10,
   "metadata": {
    "pycharm": {
     "name": "#%%\n"
    }
   },
   "outputs": [],
   "source": [
    "def calc_interval_revenue(initial, target, unit_price):\n",
    "    \"\"\"calculate revenue in 5mins by initial and target\"\"\"\n",
    "    # the ramp are under 0, indicate it's charing in whole interval, no revenue generated\n",
    "    if initial <= 0 and target <= 0:\n",
    "        return 0\n",
    "\n",
    "    if unit_price == 0:\n",
    "        return 0\n",
    "\n",
    "    # the ramp above 0, calculate as trapezoid area\n",
    "    if initial >= 0 and target >= 0:\n",
    "        # (initial + target) / 12 / 2\n",
    "        # / 12 for MWh in 5 mins\n",
    "        # / 2 for  trapezoid area formula\n",
    "        return (initial + target) / 24 * unit_price\n",
    "\n",
    "    # the ramp across zero, only calculate the positive area\n",
    "    charge_rate = max(initial, target)\n",
    "    charge_ratio = abs(charge_rate) / (abs(initial) + abs(target))\n",
    "    return charge_rate / 24 * charge_ratio * unit_price\n",
    "    "
   ]
  },
  {
   "cell_type": "markdown",
   "metadata": {},
   "source": [
    "## Apply to Pandas \n",
    "\n",
    "Calculate revenue for each interval"
   ]
  },
  {
   "cell_type": "code",
   "execution_count": 6,
   "metadata": {},
   "outputs": [
    {
     "data": {
      "text/html": [
       "<div>\n",
       "<style scoped>\n",
       "    .dataframe tbody tr th:only-of-type {\n",
       "        vertical-align: middle;\n",
       "    }\n",
       "\n",
       "    .dataframe tbody tr th {\n",
       "        vertical-align: top;\n",
       "    }\n",
       "\n",
       "    .dataframe thead th {\n",
       "        text-align: right;\n",
       "    }\n",
       "</style>\n",
       "<table border=\"1\" class=\"dataframe\">\n",
       "  <thead>\n",
       "    <tr style=\"text-align: right;\">\n",
       "      <th></th>\n",
       "      <th>Timestamp</th>\n",
       "      <th>INITIALMW</th>\n",
       "      <th>TARGETMW</th>\n",
       "      <th>RRP</th>\n",
       "      <th>revenue</th>\n",
       "    </tr>\n",
       "  </thead>\n",
       "  <tbody>\n",
       "    <tr>\n",
       "      <th>188</th>\n",
       "      <td>1/04/2024 15:45</td>\n",
       "      <td>0.00000</td>\n",
       "      <td>0.0</td>\n",
       "      <td>60.66444</td>\n",
       "      <td>0.000000</td>\n",
       "    </tr>\n",
       "    <tr>\n",
       "      <th>189</th>\n",
       "      <td>1/04/2024 15:50</td>\n",
       "      <td>1.13012</td>\n",
       "      <td>0.0</td>\n",
       "      <td>85.27446</td>\n",
       "      <td>4.015432</td>\n",
       "    </tr>\n",
       "    <tr>\n",
       "      <th>190</th>\n",
       "      <td>1/04/2024 15:55</td>\n",
       "      <td>-0.08866</td>\n",
       "      <td>-8.0</td>\n",
       "      <td>77.88982</td>\n",
       "      <td>0.000000</td>\n",
       "    </tr>\n",
       "    <tr>\n",
       "      <th>191</th>\n",
       "      <td>1/04/2024 16:00</td>\n",
       "      <td>-10.17502</td>\n",
       "      <td>0.0</td>\n",
       "      <td>63.17193</td>\n",
       "      <td>0.000000</td>\n",
       "    </tr>\n",
       "    <tr>\n",
       "      <th>192</th>\n",
       "      <td>1/04/2024 16:05</td>\n",
       "      <td>0.00000</td>\n",
       "      <td>0.0</td>\n",
       "      <td>49.99301</td>\n",
       "      <td>0.000000</td>\n",
       "    </tr>\n",
       "    <tr>\n",
       "      <th>...</th>\n",
       "      <td>...</td>\n",
       "      <td>...</td>\n",
       "      <td>...</td>\n",
       "      <td>...</td>\n",
       "      <td>...</td>\n",
       "    </tr>\n",
       "    <tr>\n",
       "      <th>283</th>\n",
       "      <td>1/04/2024 23:40</td>\n",
       "      <td>-0.09306</td>\n",
       "      <td>0.0</td>\n",
       "      <td>65.90012</td>\n",
       "      <td>0.000000</td>\n",
       "    </tr>\n",
       "    <tr>\n",
       "      <th>284</th>\n",
       "      <td>1/04/2024 23:45</td>\n",
       "      <td>-0.09306</td>\n",
       "      <td>0.0</td>\n",
       "      <td>59.75000</td>\n",
       "      <td>0.000000</td>\n",
       "    </tr>\n",
       "    <tr>\n",
       "      <th>285</th>\n",
       "      <td>1/04/2024 23:50</td>\n",
       "      <td>-0.07211</td>\n",
       "      <td>0.0</td>\n",
       "      <td>59.55000</td>\n",
       "      <td>0.000000</td>\n",
       "    </tr>\n",
       "    <tr>\n",
       "      <th>286</th>\n",
       "      <td>1/04/2024 23:55</td>\n",
       "      <td>0.90866</td>\n",
       "      <td>0.0</td>\n",
       "      <td>61.92004</td>\n",
       "      <td>2.344344</td>\n",
       "    </tr>\n",
       "    <tr>\n",
       "      <th>287</th>\n",
       "      <td>2/04/2024 0:00</td>\n",
       "      <td>0.00000</td>\n",
       "      <td>0.0</td>\n",
       "      <td>57.20028</td>\n",
       "      <td>0.000000</td>\n",
       "    </tr>\n",
       "  </tbody>\n",
       "</table>\n",
       "<p>100 rows × 5 columns</p>\n",
       "</div>"
      ],
      "text/plain": [
       "           Timestamp  INITIALMW  TARGETMW       RRP   revenue\n",
       "188  1/04/2024 15:45    0.00000       0.0  60.66444  0.000000\n",
       "189  1/04/2024 15:50    1.13012       0.0  85.27446  4.015432\n",
       "190  1/04/2024 15:55   -0.08866      -8.0  77.88982  0.000000\n",
       "191  1/04/2024 16:00  -10.17502       0.0  63.17193  0.000000\n",
       "192  1/04/2024 16:05    0.00000       0.0  49.99301  0.000000\n",
       "..               ...        ...       ...       ...       ...\n",
       "283  1/04/2024 23:40   -0.09306       0.0  65.90012  0.000000\n",
       "284  1/04/2024 23:45   -0.09306       0.0  59.75000  0.000000\n",
       "285  1/04/2024 23:50   -0.07211       0.0  59.55000  0.000000\n",
       "286  1/04/2024 23:55    0.90866       0.0  61.92004  2.344344\n",
       "287   2/04/2024 0:00    0.00000       0.0  57.20028  0.000000\n",
       "\n",
       "[100 rows x 5 columns]"
      ]
     },
     "execution_count": 6,
     "metadata": {},
     "output_type": "execute_result"
    }
   ],
   "source": [
    "calc_revenue = lambda row: calc_interval_revenue(row['INITIALMW'],row['TARGETMW'],row['RRP'])\n",
    "df['revenue'] = df.apply(calc_revenue, axis=1)\n",
    "df.tail(100)"
   ]
  },
  {
   "cell_type": "markdown",
   "metadata": {},
   "source": [
    "## Get total revenue"
   ]
  },
  {
   "cell_type": "code",
   "execution_count": 9,
   "metadata": {},
   "outputs": [
    {
     "name": "stdout",
     "output_type": "stream",
     "text": [
      "The total revenue in 1 Apr 2024 is $8530.08\n"
     ]
    }
   ],
   "source": [
    "total_revenue = sum(df['revenue'])\n",
    "print(f'The total revenue in 1 Apr 2024 is ${total_revenue:.2f}')"
   ]
  }
 ],
 "metadata": {
  "kernelspec": {
   "display_name": "Python 3 (ipykernel)",
   "language": "python",
   "name": "python3"
  },
  "language_info": {
   "codemirror_mode": {
    "name": "ipython",
    "version": 3
   },
   "file_extension": ".py",
   "mimetype": "text/x-python",
   "name": "python",
   "nbconvert_exporter": "python",
   "pygments_lexer": "ipython3",
   "version": "3.12.2"
  }
 },
 "nbformat": 4,
 "nbformat_minor": 4
}